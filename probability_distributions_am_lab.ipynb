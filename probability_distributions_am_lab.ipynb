{
 "cells": [
  {
   "cell_type": "code",
   "execution_count": 3,
   "metadata": {},
   "outputs": [],
   "source": [
    "import scipy.stats as stats"
   ]
  },
  {
   "cell_type": "markdown",
   "metadata": {},
   "source": [
    "# Probability Distributions\n",
    "\n",
    "## Introduction\n",
    "\n",
    "In this assignment, we will work with some common probability distributions.\n",
    "\n",
    "Often we have to identify what distribution we should use to model a real-life\n",
    "situation. This exercise well get you some practice doing so.\n",
    "\n",
    "For each question:\n",
    "\n",
    "- Name the most appropriate distribution and the associated parameter(s)\n",
    "- Set up equation for the distribution, e.g.\n",
    "\n",
    "  ```\n",
    "  Let X be the number of heads in 30 coin flips:\n",
    "  X ~ Binomial(n=30, p=0.5)\n",
    "  ```\n",
    "\n",
    "- Use the pdf/pmf of the distribution to calculate the desired probability, e.g.\n",
    "\n",
    "  ```\n",
    "  P(X = 15) = 0.144\n",
    "  ```\n",
    "\n",
    "  You may calculate these probabilities either by hand (with an assist from wikipedia to look up the PMF or CDF), or use python:\n",
    "\n",
    "  ```\n",
    "  import scipy.stats as stats\n",
    "  dist = stats.binom(n=30, p=0.5)\n",
    "  print(\"P(X = 15) = \", dist.pmf(15))\n",
    "  ```\n",
    "\n",
    "## Basic\n",
    "\n",
    "### Part 1: Identifying Distributions\n",
    "\n",
    "1. A typist makes on average 2 mistakes per page.  What is the probability of a particular page having no errors on it?\n",
    "\n",
    "2. Components are packed in boxes of 20. The probability of any individual component being\n",
    "   defective is 0.1. What is the probability of a box containing exactly 2 defective components?\n",
    "\n",
    "3. Components are packed in boxes of 20. The probability of any individual component being\n",
    "   defective is 0.1. What is the probability of a box containing AT MOST 2 defective components?\n",
    "\n",
    "4. Patrons arrive at a local bar at a rate of 30 per hour. What is the probability that the bouncer can take a three minute bathroom break without missing the next patron?\n",
    "\n",
    "5. You need to find a tall person, at least 6 feet tall, to help you reach a cookie jar. 8% of the population is 6 feet or taller, and people pass by on average twice per minute.  If you wait on the sidewalk, what is the probability that you will have to wait longer than ten minutes to get some cookies?\n",
    "\n",
    "6. A harried passenger will be several minutes late for a scheduled 10 A.M. flight to NYC. Nevertheless, he might still make the flight, since boarding is always allowed until 10:10 A.M., and boarding is sometimes permitted up to 10:30 AM.\n",
    "\n",
    "Assuming the end time of the boarding interval is **uniformly distributed** over the above limits, find the probability that the passenger will make his flight, assuming he arrives at the boarding gate at 10:25.\n",
    "\n",
    "7. Your cat starts to beg for dinner at 3:30 every day, and you suspect that it meows at a fixed rate. You've observed that about one fifth of the time your cat will not meow until 3:40, giving you 10 unexpected minutes of quiet. What is the probability your cat leaves you alone for 30 minutes?\n",
    "\n",
    "8. Somehow you ended up with two types of forks.  There are the good forks, which are big and fit a healthy bite, but there are also these small, thin ones that you don't really understand what they are for, you should probably just get rid of them.  You need two forks for you and your partner, and grab a fistful of 5.  If there are 14 forks in the drawer, of which half are the good kind, what is the probability you have at least your two required good forks?"
   ]
  },
  {
   "cell_type": "code",
   "execution_count": null,
   "metadata": {},
   "outputs": [],
   "source": [
    "#1. \n",
    "# 2 mistakes / page\n",
    "# binomial: has a mistake or not\n",
    "# ^ WRONG: it's poisson: b/c given rate not exact prob\n",
    "# Let X be the number of mistake the typist makes\n",
    "# X ~ Binomial(n=1, p=0.5)\n",
    "\n",
    "\n",
    "# X ~ Poisson(2)"
   ]
  },
  {
   "cell_type": "code",
   "execution_count": 9,
   "metadata": {},
   "outputs": [
    {
     "name": "stdout",
     "output_type": "stream",
     "text": [
      "P(X = 2) = 0.28517980706429813\n"
     ]
    }
   ],
   "source": [
    "#2\n",
    "# n = 20, p = 0.1, k = 2\n",
    "n, p, k = 20, 0.1, 2\n",
    "# binomial: components are defective or not\n",
    "# Let X be whether there is a defective component or not\n",
    "dist = stats.binom(n, p)\n",
    "print(\"P(X = 2) =\", dist.pmf(k))"
   ]
  },
  {
   "cell_type": "code",
   "execution_count": 10,
   "metadata": {},
   "outputs": [
    {
     "name": "stdout",
     "output_type": "stream",
     "text": [
      "P(X <= 2) = 0.6769268051894661\n"
     ]
    }
   ],
   "source": [
    "#3\n",
    "# n = 20, p = 0.1, k = 2\n",
    "n, p, k = 20, 0.1, 2\n",
    "# binomial: componets are defective or not\n",
    "# Let X be whether there is a defective component or not\n",
    "# looking at CDF here b/c we want to look at the the probabilities of 0 - 2 defective\n",
    "        # components\n",
    "dist3 = stats.binom(n, p)\n",
    "print(\"P(X <= 2) =\", dist.cdf(k))"
   ]
  },
  {
   "cell_type": "code",
   "execution_count": 16,
   "metadata": {},
   "outputs": [
    {
     "name": "stdout",
     "output_type": "stream",
     "text": [
      "P(X = 0) = 0.22313016014842982\n"
     ]
    }
   ],
   "source": [
    "#4\n",
    "# lambda = 30 / hour = 30 / 60m\n",
    "# t = 3m\n",
    "# new_lam = lambda * t\n",
    "# no events to occur k = 0\n",
    "lamb, t, k= 30 / 60, 3, 0\n",
    "new_lamb = lamb * 3\n",
    "dist4 = stats.poisson.pmf(k, new_lamb)\n",
    "print(\"P(X = 0) =\", dist4)"
   ]
  },
  {
   "cell_type": "code",
   "execution_count": 44,
   "metadata": {},
   "outputs": [
    {
     "name": "stdout",
     "output_type": "stream",
     "text": [
      "0.20189651799465536\n"
     ]
    }
   ],
   "source": [
    "# 5. You need to find a tall person, at least 6 feet tall, to help you reach a cookie jar.\n",
    "# 8% of the population is 6 feet or taller, and people pass by on average twice per minute.\n",
    "# If you wait on the sidewalk, what is the probability that you will have to wait longer than\n",
    "# ten minutes to get some cookies?\n",
    "\n",
    "#lambda = 2 / 1min\n",
    "#1 - X(10): probability the I have to wait longer than 10 min\n",
    "\n",
    "a, t = 2, 10\n",
    "lamb = a * 10\n",
    "new_lamb = lamb * 0.08\n",
    "dist5 = stats.expon(new_lamb)\n",
    "# print(\"1 - P(X > 10) =\", dist5.cdf(t))\n",
    "\n",
    "\n",
    "lam = 20 * .08\n",
    "prob5 = 1 - stats.expon.cdf(1, scale=1/lam)\n",
    "print(prob5)"
   ]
  },
  {
   "cell_type": "code",
   "execution_count": 74,
   "metadata": {},
   "outputs": [
    {
     "name": "stdout",
     "output_type": "stream",
     "text": [
      "0.25\n"
     ]
    }
   ],
   "source": [
    "# # 6. A harried passenger will be several minutes late for a scheduled 10 A.M. flight to NYC.\n",
    "# # Nevertheless, he might still make the flight, since boarding is always allowed until\n",
    "# # 10:10 A.M., and boarding is sometimes permitted up to 10:30 AM.\n",
    "# # Assuming the end time of the boarding interval is uniformly distributed over the above\n",
    "# limits, find the probability that the passenger will make his flight, assuming he arrives\n",
    "# at the boarding gate at 10:25.\n",
    "\n",
    "# x = linspace(10, 30, 4)\n",
    "a, b = 10, 30\n",
    "dist6 = stats.uniform(loc=10, scale=20)\n",
    "print(1 - dist6.cdf(25))"
   ]
  },
  {
   "cell_type": "code",
   "execution_count": 72,
   "metadata": {},
   "outputs": [
    {
     "name": "stdout",
     "output_type": "stream",
     "text": [
      "1.5428112031918877e-13\n"
     ]
    }
   ],
   "source": [
    "# 7. Your cat starts to beg for dinner at 3:30 every day, and you suspect that it meows at a\n",
    "#     fixed rate. You've observed that about one fifth of the time your cat will not meow until\n",
    "#     3:40, giving you 10 unexpected minutes of quiet. What is the probability your cat leaves\n",
    "#         you alone for 30 minutes?\n",
    "\n",
    "#1/5 meows at 3:40\n",
    "# expo value for event to occur at 3:40\n",
    "\n",
    "# prob cat meow at 4:00\n",
    "\n",
    "old_lam = 10 / 5\n",
    "t = 30\n",
    "new_lam = old_lam ** -1\n",
    "# m = hist_mean ** -1 #decay parameters \n",
    "dist7 = stats.expon(new_lam)\n",
    "print(dist7.pdf(t))"
   ]
  },
  {
   "cell_type": "code",
   "execution_count": null,
   "metadata": {},
   "outputs": [],
   "source": []
  },
  {
   "cell_type": "code",
   "execution_count": null,
   "metadata": {},
   "outputs": [],
   "source": []
  },
  {
   "cell_type": "markdown",
   "metadata": {},
   "source": [
    "## Advanced\n",
    "\n",
    "### Part 2: Distribution Simulation\n",
    "\n",
    "Often times in real life applications, we can specify the values of a variable to be drawn from a particular distribution.\n",
    "For example the number of sales made in the next month can be modeled as a uniform distribution over the range of\n",
    "5000 and 6000 (the terminology here is that the number of sales is a *random variable*, and its *distribution* is uniform).\n",
    "\n",
    "In this scenario, we are modeling `profit` as a product of `number of views`, `conversion` and `profit per sale`,\n",
    "where `number of views`, `conversion` and `profit per sale` can be modeled as random variables.\n",
    "By randomly drawing values from these distributions, we are able to get a distribution of the range of `profit`\n",
    "based on the uncertainties in the other variables.\n",
    "\n",
    "`Profit = Number of views * Conversion * (Wholesale_Proportion * 50 +\n",
    "(1 - Wholesale_Proportion)*60)`\n",
    "\n",
    "The assumptions of our model are:\n",
    "\n",
    "- `Number of views` is a uniform distribution over the range of 5000 and 6000.\n",
    "- `Conversion` is binomially distributed where the probability of success is `0.12` for each view.\n",
    "- Profit per sale can take on two values: 50 for wholesale and 60 for non-wholesale. There is a 0.2 probability of a sale being wholesale and 0.8 probability of being non-wholesale. You should be able to model both the number of wholesale sales and the number of non-wholesales sales as binomial distributions (but one of the parameters of this distribution is not fixed, it depends on an earlier random quantity).\n",
    "\n",
    "1. Given the distributions of each of variables, use `scipy` to write a function that would draw random values from each of the\n",
    "   distributions to simulate draws from the distribution of `profit`\n",
    "\n",
    "2. Draw 10,000 samples from the distribution of profit, and plot a histogram.  Does it look like any of the common distributions is a good fit for `profit`?\n",
    "\n",
    "3. Compute the range of values of `profit` where the middle 95% of the probability mass lies."
   ]
  },
  {
   "cell_type": "markdown",
   "metadata": {},
   "source": [
    "## Extra Credit\n",
    "\n",
    "### Part 3: Covariance and Joint Distribution\n",
    "\n",
    "**Covariance** is a summary statistic that measures how much two variables vary together. For example,\n",
    "the covariance is positive when high values of X co-occur frequently with high values of Y.\n",
    "The covariance is negative when high values of X co-occur frequently with low values of Y.\n",
    "The covariance is zero when the values of X co-occur randomly with values of Y.\n",
    "Similar to correlation, covariance measures the strength of the linear relationship (though it is unscaled).\n",
    "\n",
    "The **joint PMF** of two discrete random variables X and Y describes how much the probability mass is\n",
    "placed on each possible pair of values (x, y).\n",
    "\n",
    "Similarly, the **joint PDF** of two continuous random variables X and Y describes the relatively likelihood\n",
    "placed on the pair of possible values (x, y).  The idea is similar to the discrete case, but as the values are\n",
    "continuous, it makes more sense to think of the continuous rv's as falling into a two-dimensional set (such as a\n",
    "rectangle) obtained through integration.\n",
    "\n",
    "<br>\n",
    "\n",
    "Suppose a university wants to look for factors that are correlated with the GPA of the students that they\n",
    "are going to admit.\n",
    "\n",
    "1. Load the data file `data/admissions.csv` into a pandas dataframe. The columns are `gpa`, `family_income`\n",
    "   and `parent_avg_age`.\n",
    "\n",
    "2. Implement a `covariance` function and compute the covariance matrix of the dataframe. Check your results\n",
    "   with `df.cov()`. Make sure you understand what each of the numbers in the matrix represents\n",
    "\n",
    "3. Implement a `normalize` function that would compute the correlation matrix from the covariance matrix.\n",
    "   Check your results with `df.corr()`\n",
    "\n",
    "4. You should identify `family_income` as being the most correlated with GPA. The university wants to make\n",
    "   an effort to make sure people of all family income are being fairly represented in the admissions process.\n",
    "   In order to achieve that, different GPA thresholds will be set according to family income.\n",
    "\n",
    "   The low, medium and high family income groups are `0 to 26832`, `26833 to 37510` and `above 37510` respectively. \n",
    "   Implement a function that would plot the distribution of GPA scores for each family income category. These are the\n",
    "   conditional probability distributions of `gpa` given certain levels of `family_income`.\n",
    "\n",
    "   **Hint:**\n",
    "   - **You can use the** [kde fit function](http://glowingpython.blogspot.com/2012/08/kernel-density-estimation-with-scipy.html)\n",
    "     **to fit a curve to the histogram produced from the data.**\n",
    "\n",
    "6. If the university decides to accept students with GPA above the 90th percentile within the respective family\n",
    "   income categories, what are the GPA thresholds for each of the categories?\n"
   ]
  },
  {
   "cell_type": "markdown",
   "metadata": {},
   "source": [
    "### Part 5: Pearson Correlation vs Spearman Correlation\n",
    "\n",
    "The Pearson correlation you have encountered in `Part 2` evaluates the linear relationship between two continuous\n",
    "variables. The Spearman correlation evaluates the monotonic relationship between two continuous or ordinal variables\n",
    "without assuming linearity of the variables. Spearman correlation is often more robust in capturing non-linear relationship\n",
    "between variables.\n",
    "\n",
    "1. In addition to the `family_income` and `parent_avg_age`, you are also given data about the number of hours the\n",
    "   students studied. Load the new data in from `data/admissions_with_study_hrs_and_sports.csv`.\n",
    "\n",
    "2. Make a scatter plot of `hrs_studied` versus `gpa`, with `hrs_studied` on the x-axis. \n",
    "   Make the points more transparent so you can see the density of the points. Use the following command get the slope \n",
    "   and intercept of a straight line to fit the data : \n",
    "   `slope, intercept, r_value, p_value, std_err = scipy.stats.linregress(gpa, hrs_studied)`. \n",
    "   Plot the straight line on the scatter plot.\n",
    "\n",
    "3. Use the functions `scipy.stats.pearsonr` and `scipy.stats.spearmanr` to compute the Pearson and Spearman correlation\n",
    "   coefficients between `gpa` and `hrs_studied`. What is the difference between the two coefficients?\n",
    "   Can you explain why they are different?\n",
    "\n",
    "4. Repeat step `2` and `3` for `gpa` and `sport_performance`. Is there a strong relationship between the two variables?\n",
    "   Do the correlation coefficients reflect that? Explain your answer.\n",
    "\n",
    "### Part 5: Assorted\n",
    "\n",
    "#### Sets\n",
    "\n",
    "1. Out of the students in a class, 60% are geniuses, 70% love chocolate,\n",
    "   and 40% fall into both categories. Determine the probability that a\n",
    "   randomly selected student is neither a genius nor a chocolate lover.\n",
    "\n",
    "#### Combinatorics\n",
    "\n",
    "1. A fair 6-sided die is rolled three times, independently. Which is more likely: a\n",
    "   sum of 11 or a sum of 12?\n",
    "\n",
    "2. 90 students are to be split at random into 3 classes of equal size. Joe and Jane are\n",
    "   two of the students. What is the probability that they end up in the same\n",
    "   class?\n",
    "\n",
    "3. A well-shuffled 52-card deck is dealt to 4 players. Find the probability that\n",
    "   each of the players gets an ace.\n",
    "\n",
    "#### Random Variables\n",
    "\n",
    "1. A six-sided die is loaded in a way that each even face is twice as likely as\n",
    "   each odd face. All even faces are equally likely, as are all odd faces.\n",
    "\n",
    "   Construct a random variable for a single roll of this die and find the\n",
    "   probability that the outcome is less than 4.\n",
    "\n",
    "2. `X` is a random variable with PMF `p(k) = k^2/a` if `k = -3, -2, -1, 0, 1, 2, 3`\n",
    "and `p(k) = 0` otherwise.\n",
    "\n",
    "  (a) Find `a` and `E[X]`\n",
    "\n",
    "  (b) Find the pmf of the random variable `Z = (X - E[X])^2`\n",
    "\n",
    "  (c) Using the result from (b), find the variance of `X`\n",
    "\n",
    "3. A soccer team has 2 games scheduled for one weekend. It has a 0.4 probability\n",
    "   of not losing first game and 0.7 probability of not losing the second\n",
    "   game, independent of the first. If the team doesn't lose a particular game, the\n",
    "   team is equally likely to win or tie. The team will receive 2 points for a win,\n",
    "   1 for a tie, and 0 for a loss.\n",
    "   - Find the PMF of the number of points that the team earns over the\n",
    "     weekend.\n",
    "   - Find the expected value for the number of points earned.\n",
    "   - Find the variance for the number of points earned.\n",
    "\n",
    "4. You have 5 keys, one of which is the correct one for the house. Find the PMF\n",
    "   of the number of trials you will need to open the door, assuming that after\n",
    "   you try a key that doesn't work you set it aside and you otherwise randomly\n",
    "   select a key to try next.\n",
    "\n",
    "\n",
    "5. You toss independently a fair coin and you count the number of tosses until\n",
    "   the first tail appears. If this number is `n`, you receive `2^n` dollars.\n",
    "   What is the expected amount you will receive? How much would you be willing\n",
    "   to play this game?\n",
    "\n",
    "#### Joint Distributions\n",
    "\n",
    "1. A class of `n` students takes a test consisting of `m` questions. Suppose that\n",
    "   student `i` submitted answers to the first `m_i,` for `m_i <= m` questions.\n",
    "   - The grader randomly picks one answer, call it `(I, J)` where `I` is the student\n",
    "     ID number (values `1,...,n`) and `J` is the question number (values `1,...,m`).\n",
    "     Assume that all answers are equally likely to be picked. Calculate the joint\n",
    "     and marginal PMFs of `I` and `J`.\n",
    "\n",
    "   - Assume that an answer to question `j` if submitted by student `i` is correct\n",
    "     with probability `p_ij`. Each answer gets `a` points if it is correct and `b`\n",
    "     points otherwise. Find the expected value of the score of student `i`.\n",
    "\n",
    "### Independence\n",
    "\n",
    "1. Alice and Bob want to choose between the opera and the movies by tossing a\n",
    "   coin. Unfortunately, the only coin they have is biased, though the bias is\n",
    "   not known exactly. How can they use the biased coin to make a decision so\n",
    "   that either option (opera or movies) is equally likely to be chosen?\n",
    "\n",
    "2. A system consists of `n` identical components, each of which is operational\n",
    "   with probability `p`, independent of other components. The system is\n",
    "   operational if at least `k` out of the `n` components are operational. What is\n",
    "   the probability that the system is operational?\n",
    "\n",
    "#### Covariance and Correlation\n",
    "\n",
    "1. Suppose that *X* and *Y* are random variables with the same variance. Show\n",
    "   that *X - Y* and *X + Y* are uncorrelated."
   ]
  },
  {
   "cell_type": "code",
   "execution_count": null,
   "metadata": {},
   "outputs": [],
   "source": []
  }
 ],
 "metadata": {
  "kernelspec": {
   "display_name": "Python 3",
   "language": "python",
   "name": "python3"
  },
  "language_info": {
   "codemirror_mode": {
    "name": "ipython",
    "version": 3
   },
   "file_extension": ".py",
   "mimetype": "text/x-python",
   "name": "python",
   "nbconvert_exporter": "python",
   "pygments_lexer": "ipython3",
   "version": "3.7.6"
  }
 },
 "nbformat": 4,
 "nbformat_minor": 4
}
