{
 "cells": [
  {
   "cell_type": "markdown",
   "metadata": {},
   "source": [
    "# The Bootstrap Approximation of Sampling Distributions\n",
    "\n",
    "## Introduction\n",
    "\n",
    "The Bootstrap is a common, computationally intensive procedure used to approximate the sampling distribution of any sample statistic (which is probably a point estimate of some unknown population parameter). Its power is derived from its generality: it applies to almost all sample statistics we may care about, while other methods (based primarily on the central limit theorem) only apply to the sample mean.\n",
    "\n",
    "## Basic\n",
    "### Part 1: What is Bootstrapping and Why Do We Use It?\n",
    "\n",
    "The general concept of bootstrapping is to create many samples from the one sample you actually have collected.\n",
    "\n",
    "Hypothetically, since the sample we have actually collected is our best available approximation to the population we are studying, randomly redrawing new samples out of the original sample itself (with replacement) can simulate random samples from the original population.  In the bootstrap the statistic of interest is computed on each re-sample in order to provide an empirical approximation of the sampling distribution of that statistic. \n",
    "\n",
    "<br>\n",
    "\n",
    "Implement a `bootstrap` function to randomly draw with replacement from a given sample. The function should take a sample as a `numpy ndarray` and the number of resamples as an integer  (`default: 10000`). The function should return a list of `numpy ndarray` objects, each ndarray is one bootstrap sample. \n",
    "\n",
    "   ```python\n",
    "   def bootstrap(x, resamples=10000):\n",
    "       \"\"\"Draw bootstrap resamples from the array x.\n",
    "\n",
    "       Parameters\n",
    "       ----------\n",
    "       x: np.array, shape (n, )\n",
    "         The data to draw the bootstrap samples from.\n",
    "       \n",
    "       resamples: int\n",
    "         The number of bootstrap samples to draw from x.\n",
    "       \n",
    "       Returns\n",
    "       -------\n",
    "       bootstrap_samples: np.array, shape (resamples, n)\n",
    "         The bootsrap resamples from x.\n",
    "       \"\"\"\n",
    "   ```\n",
    "   \n",
    "   **Hint:**\n",
    "   - Use `np.random.randint` to randomly draw the row indexes with replacement and then create the bootstrap sample by indexing the original sample with the randomly drawn row indexes\n",
    "   - Or `np.random.choice` to randomly draw elements directly\n",
    " \n",
    "<br>"
   ]
  },
  {
   "cell_type": "code",
   "execution_count": 71,
   "metadata": {},
   "outputs": [
    {
     "name": "stdout",
     "output_type": "stream",
     "text": [
      "[1 4 5 5 1 4 5 4 1 1]\n"
     ]
    }
   ],
   "source": [
    "import numpy as np\n",
    "import matplotlib.pyplot as plt\n",
    "\n",
    "test = [1, 1, 1, 2, 2, 3, 4, 4, 5, 6]\n",
    "#print(bootstrap(test, resam))\n",
    "\n",
    "print(np.random.choice(test, size=len(test), replace=True))"
   ]
  },
  {
   "cell_type": "code",
   "execution_count": 3,
   "metadata": {},
   "outputs": [],
   "source": [
    "import numpy as np\n",
    "def bootstrap(x, resamples=10000):\n",
    "    \"\"\"Draw bootstrap resamples from the array x.\n",
    "\n",
    "   Parameters\n",
    "   ----------\n",
    "   x: np.array, shape (n, )\n",
    "     The data to draw the bootstrap samples from.\n",
    "\n",
    "   resamples: int\n",
    "     The number of bootstrap samples to draw from x.\n",
    "\n",
    "   Returns\n",
    "   -------\n",
    "   bootstrap_samples: np.array, shape (resamples, n)\n",
    "     The bootsrap resamples from x.\n",
    "   \"\"\"\n",
    "    empty = []\n",
    "    for i in range(resamples):\n",
    "        bootstrap_sample = np.random.choice(x, size=len(x), replace=True)\n",
    "        empty.append(bootstrap_sample)\n",
    "    return np.array(empty)"
   ]
  },
  {
   "cell_type": "code",
   "execution_count": 75,
   "metadata": {},
   "outputs": [],
   "source": [
    "bstrap_array = bootstrap(test, 10000)\n",
    "print(bstrap_array)"
   ]
  },
  {
   "cell_type": "code",
   "execution_count": null,
   "metadata": {},
   "outputs": [],
   "source": []
  },
  {
   "cell_type": "markdown",
   "metadata": {},
   "source": [
    "### Part 2: Bootstrap to find Confidence Interval of Mean\n",
    "\n",
    "The bootstrap can be used to provide very simple confidence intervals for a population parameter.  The empirical quantiles of the bootstrapped sampling distribution can be used as confidence intervals, usuall called bootstrapped confidence intervals.\n",
    "\n",
    "So for example, if, upon bootsrapping, you get\n",
    "\n",
    "   ```python\n",
    "   [1, 1, 1, 2, 2, 3, 4, 4, 5, 6]\n",
    "   ```\n",
    "\n",
    "as the bootstraped values of some sample statistic, then the interval `[1, 5]` would be a 80% confidence interval (where the 1 and the 5 are the 10th and 90th percentile of the array of boostrapped values).\n",
    "\n",
    "Company X wants to find out if changing to Apple monitors increases its programmers' productivity. A random sample of 25 people is chosen and their monitors are switched. The difference between their productivity before and after the monitor switch is recorded in `data/productivity.txt`.\n",
    " \n",
    "<br>\n",
    "\n",
    "1. Load the data `data/productivity.txt`.\n",
    "\n",
    "2. Why is it inappropriate to only report the mean difference in productivity as evidence to support the decision of changing all the monitors to Apple monitors in the company?\n",
    "\n",
    "3. Implement a `bootstrap_ci` function to calculate the confidence interval of any sample statistic (in this case the `mean`). The function should take a sample, a function that computes the sample statistic, the number of resamples (`default: 10000`), and the confidence level (`default: 0.95`). The function should return the lower and upper bounds of the confidence interval and the bootstrap distribution of the test statistic.\n",
    "   \n",
    "   You should be able to call the function in the following manner:\n",
    "   \n",
    "   ```python\n",
    "   bootstrap_ci(sample, stat_function=np.mean, resamples=1000, ci=95)\n",
    "   ```\n",
    "\n",
    "   **Hint:**\n",
    "   - `bootstrap_ci` should call your `bootstrap` function to create the bootstrap samples.\n",
    "   - Apply (map) the test statistic function to the bootstrap samples.\n",
    "   - Use the **percentile interval method**: e.g., take the empirical 2.5% percentile and 97.5% percentile of the bootstrapped sampling distribution to create a 95% bootstrapped confidence interval.\n",
    "\n",
    "4. Plot the bootstrap distribution of the means in a histogram. \n",
    "\n",
    "5. Based on the bootstrap confidence interval, what conclusions can you draw? What about if a 90% confidence interval were used instead? \n",
    "   \n",
    "   Suppose there are 100 programmers in the company. The cost of changing a monitor is $500 and the increase of one unit of productivity is worth $2,000, would you recommend switching the monitors? State the assumptions you are making and show your work.\n",
    "  \n",
    "<br>"
   ]
  },
  {
   "cell_type": "code",
   "execution_count": 5,
   "metadata": {},
   "outputs": [
    {
     "data": {
      "text/html": [
       "<div>\n",
       "<style scoped>\n",
       "    .dataframe tbody tr th:only-of-type {\n",
       "        vertical-align: middle;\n",
       "    }\n",
       "\n",
       "    .dataframe tbody tr th {\n",
       "        vertical-align: top;\n",
       "    }\n",
       "\n",
       "    .dataframe thead th {\n",
       "        text-align: right;\n",
       "    }\n",
       "</style>\n",
       "<table border=\"1\" class=\"dataframe\">\n",
       "  <thead>\n",
       "    <tr style=\"text-align: right;\">\n",
       "      <th></th>\n",
       "      <th>-1.910000000000000142e+01</th>\n",
       "    </tr>\n",
       "  </thead>\n",
       "  <tbody>\n",
       "    <tr>\n",
       "      <th>0</th>\n",
       "      <td>-15.2</td>\n",
       "    </tr>\n",
       "    <tr>\n",
       "      <th>1</th>\n",
       "      <td>-12.4</td>\n",
       "    </tr>\n",
       "    <tr>\n",
       "      <th>2</th>\n",
       "      <td>-15.4</td>\n",
       "    </tr>\n",
       "    <tr>\n",
       "      <th>3</th>\n",
       "      <td>-8.7</td>\n",
       "    </tr>\n",
       "    <tr>\n",
       "      <th>4</th>\n",
       "      <td>-6.7</td>\n",
       "    </tr>\n",
       "  </tbody>\n",
       "</table>\n",
       "</div>"
      ],
      "text/plain": [
       "   -1.910000000000000142e+01\n",
       "0                      -15.2\n",
       "1                      -12.4\n",
       "2                      -15.4\n",
       "3                       -8.7\n",
       "4                       -6.7"
      ]
     },
     "execution_count": 5,
     "metadata": {},
     "output_type": "execute_result"
    }
   ],
   "source": [
    "import pandas as pd\n",
    "\n",
    "prod_ = pd.read_csv(\"/Users/zschulzb/OneDrive/_mydev/galvanize/assignments/sampling-distributions/data/productivity.txt\")\n",
    "prod_.head()\n",
    "\n",
    "# bootstrap_sample_std = []\n",
    "# for i in range(1000):\n",
    "#     b = bootstrap(test)\n",
    "#     bootstrap_std = np.std(b)\n",
    "#     bootstrap_sample_std.append(bootstrap_std)"
   ]
  },
  {
   "cell_type": "markdown",
   "metadata": {},
   "source": [
    "2. Why is it inappropriate to only report the mean difference in productivity as evidence to support the decision of changing all the monitors to Apple monitors in the company?"
   ]
  },
  {
   "cell_type": "markdown",
   "metadata": {},
   "source": [
    "Answer: the same range is wide (-16h, 28h) and sample size is small (25) within that distro.\n",
    "\n",
    "Mean doesn't represent time well"
   ]
  },
  {
   "cell_type": "code",
   "execution_count": 64,
   "metadata": {},
   "outputs": [
    {
     "data": {
      "text/plain": [
       "pandas.core.frame.DataFrame"
      ]
     },
     "execution_count": 64,
     "metadata": {},
     "output_type": "execute_result"
    }
   ],
   "source": [
    "time_series = np.array(prod_).reshape(len(prod_), 1)\n",
    "type(time_series)\n",
    "np.shape(time_series)\n",
    "# list(time_series)\n",
    "# print(prod_.iloc[:, :-1])\n",
    "time_series = prod_.iloc[:, :-1]\n",
    "type(time_series)"
   ]
  },
  {
   "cell_type": "code",
   "execution_count": 67,
   "metadata": {},
   "outputs": [
    {
     "data": {
      "text/plain": [
       "(24,)"
      ]
     },
     "execution_count": 67,
     "metadata": {},
     "output_type": "execute_result"
    }
   ],
   "source": [
    "time_series = np.array(prod_).flatten()\n",
    "type(time_series)\n",
    "np.shape(time_series)"
   ]
  },
  {
   "cell_type": "code",
   "execution_count": 7,
   "metadata": {},
   "outputs": [
    {
     "data": {
      "text/html": [
       "<div>\n",
       "<style scoped>\n",
       "    .dataframe tbody tr th:only-of-type {\n",
       "        vertical-align: middle;\n",
       "    }\n",
       "\n",
       "    .dataframe tbody tr th {\n",
       "        vertical-align: top;\n",
       "    }\n",
       "\n",
       "    .dataframe thead th {\n",
       "        text-align: right;\n",
       "    }\n",
       "</style>\n",
       "<table border=\"1\" class=\"dataframe\">\n",
       "  <thead>\n",
       "    <tr style=\"text-align: right;\">\n",
       "      <th></th>\n",
       "      <th>-1.910000000000000142e+01</th>\n",
       "    </tr>\n",
       "  </thead>\n",
       "  <tbody>\n",
       "    <tr>\n",
       "      <th>count</th>\n",
       "      <td>24.00000</td>\n",
       "    </tr>\n",
       "    <tr>\n",
       "      <th>mean</th>\n",
       "      <td>6.05000</td>\n",
       "    </tr>\n",
       "    <tr>\n",
       "      <th>std</th>\n",
       "      <td>13.02793</td>\n",
       "    </tr>\n",
       "    <tr>\n",
       "      <th>min</th>\n",
       "      <td>-15.40000</td>\n",
       "    </tr>\n",
       "    <tr>\n",
       "      <th>25%</th>\n",
       "      <td>-4.10000</td>\n",
       "    </tr>\n",
       "    <tr>\n",
       "      <th>50%</th>\n",
       "      <td>8.05000</td>\n",
       "    </tr>\n",
       "    <tr>\n",
       "      <th>75%</th>\n",
       "      <td>14.17500</td>\n",
       "    </tr>\n",
       "    <tr>\n",
       "      <th>max</th>\n",
       "      <td>27.70000</td>\n",
       "    </tr>\n",
       "  </tbody>\n",
       "</table>\n",
       "</div>"
      ],
      "text/plain": [
       "       -1.910000000000000142e+01\n",
       "count                   24.00000\n",
       "mean                     6.05000\n",
       "std                     13.02793\n",
       "min                    -15.40000\n",
       "25%                     -4.10000\n",
       "50%                      8.05000\n",
       "75%                     14.17500\n",
       "max                     27.70000"
      ]
     },
     "execution_count": 7,
     "metadata": {},
     "output_type": "execute_result"
    }
   ],
   "source": [
    "prod_.describe()"
   ]
  },
  {
   "cell_type": "markdown",
   "metadata": {},
   "source": [
    "1.910000000000000142e+01\n",
    "-1.519999999999999929e+01\n",
    "-1.240000000000000036e+01\n",
    "-1.539999999999999858e+01\n",
    "-8.699999999999999289e+00\n",
    "-6.699999999999999289e+00\n",
    "-5.899999999999999467e+00\n",
    "-3.500000000000000000e+00\n",
    "-3.099999999999999645e+00\n",
    "-2.099999999999999645e+00\n",
    "4.200000000000001066e+00\n",
    "6.099999999999999645e+00\n",
    "7.000000000000001776e+00\n",
    "9.099999999999999645e+00\n",
    "1.000000000000000178e+01\n",
    "1.029999999999999893e+01\n",
    "1.320000000000000107e+01\n",
    "1.009999999999999964e+01\n",
    "1.409999999999999964e+01\n",
    "1.440000000000000036e+01\n",
    "2.010000000000000142e+01\n",
    "2.629999999999999716e+01\n",
    "2.769999999999999574e+01\n",
    "2.219999999999999574e+01\n",
    "2.339999999999999858e+01"
   ]
  },
  {
   "cell_type": "markdown",
   "metadata": {},
   "source": [
    "3. Implement a `bootstrap_ci` function to calculate the confidence interval of any sample statistic (in this case the `mean`). The function should take a sample, a function that computes the sample statistic, the number of resamples (`default: 10000`), and the confidence level (`default: 0.95`). The function should return the lower and upper bounds of the confidence interval and the bootstrap distribution of the test statistic.\n",
    "   \n",
    "   You should be able to call the function in the following manner:\n",
    "   \n",
    "   ```python\n",
    "   bootstrap_ci(sample, stat_function=np.mean, resamples=1000, ci=95)\n",
    "   ```\n",
    "\n",
    "   **Hint:**\n",
    "   - `bootstrap_ci` should call your `bootstrap` function to create the bootstrap samples.\n",
    "   - Apply (map) the test statistic function to the bootstrap samples.\n",
    "   - Use the **percentile interval method**: e.g., take the empirical 2.5% percentile and 97.5% percentile of the bootstrapped sampling distribution to create a 95% bootstrapped confidence interval."
   ]
  },
  {
   "cell_type": "code",
   "execution_count": 88,
   "metadata": {},
   "outputs": [],
   "source": [
    "def bootstrap_ci(x, stat_flag=np.mean, resamples=1000, ci=95): # string for placeholder\n",
    "    \"\"\"Draw bootstrap resamples from the array x.\n",
    "\n",
    "   Parameters\n",
    "   ----------\n",
    "   x: np.array, shape (n, )\n",
    "     The data to draw the bootstrap samples from.\n",
    "\n",
    "   resamples: int\n",
    "     The number of bootstrap samples to draw from x.\n",
    "\n",
    "   Returns\n",
    "   -------\n",
    "   bootstrap_samples: np.array, shape (resamples, n)\n",
    "     The bootsrap resamples from x.\n",
    "   \"\"\"\n",
    "    #bootstrap_sample_std = []\n",
    "#     for i in range(1000):\n",
    "    b = bootstrap(x)\n",
    "    b_lst = []\n",
    "    for i in b:\n",
    "        b_lst.append(stat_flag(i))\n",
    "    stat_descrip = stat_flag(b)\n",
    "    #bootstrap_sample_std.append(stat_descrip)\n",
    "#     return bootstrap_sample_std\n",
    "    endpoints = []\n",
    "    left_endpoint = np.percentile(b, (100-ci)/2)\n",
    "    right_endpoint = np.percentile(b, 100-((100-ci)/2))\n",
    "    endpoints.append([left_endpoint, right_endpoint])\n",
    "\n",
    "    return endpoints, stat_descrip, b_lst\n",
    "\n",
    "def graph_bootstrap(x):\n",
    "    fig, ax = plt.subplots(1, figsize = (25,10))\n",
    "    hist_bstrap_means = ax.hist(x, bins=100, density=True, color='black', alpha=0.5)"
   ]
  },
  {
   "cell_type": "code",
   "execution_count": 89,
   "metadata": {},
   "outputs": [],
   "source": [
    "ep, boot_s, b_lst = bootstrap_ci(time_series)"
   ]
  },
  {
   "cell_type": "code",
   "execution_count": 85,
   "metadata": {},
   "outputs": [
    {
     "name": "stdout",
     "output_type": "stream",
     "text": [
      "[[-15.399999999999997, 27.699999999999992]] 6.043754999999998\n"
     ]
    }
   ],
   "source": [
    "print(ep, boot_s)"
   ]
  },
  {
   "cell_type": "code",
   "execution_count": 90,
   "metadata": {},
   "outputs": [
    {
     "data": {
      "image/png": "[encoded data removed]",
      "text/plain": [
       "<Figure size 1800x720 with 1 Axes>"
      ]
     },
     "metadata": {
      "needs_background": "light"
     },
     "output_type": "display_data"
    }
   ],
   "source": [
    "graph_bootstrap(b_lst)"
   ]
  },
  {
   "cell_type": "code",
   "execution_count": 86,
   "metadata": {},
   "outputs": [
    {
     "data": {
      "image/png": "[encoded data removed]",
      "text/plain": [
       "<Figure size 1800x720 with 1 Axes>"
      ]
     },
     "metadata": {
      "needs_background": "light"
     },
     "output_type": "display_data"
    }
   ],
   "source": [
    "fig, ax = plt.subplots(1, figsize = (25,10))\n",
    "# bars = ax.bar([left_endpoint, right_endpoint], b_lst, color = 'black', align = 'center')\n",
    "hist_bstrap_means = ax.hist(b_lst, bins=100, density=True, color='black', alpha=0.5)\n",
    "\n",
    "# _ = ax.hist(bootstrap_sample_std, bins=100, density=True, color=\"black\", alpha=0.5)"
   ]
  },
  {
   "cell_type": "markdown",
   "metadata": {},
   "source": [
    "this proves thru bootstrapping a sample's mean, the bootstapped sampling mean distrobuton will be normally distrobuted around the original sample's mean. "
   ]
  },
  {
   "cell_type": "markdown",
   "metadata": {},
   "source": [
    "5. Based on the bootstrap confidence interval, what conclusions can you draw? What about if a 90% confidence interval were used instead?\n",
    "\n",
    "Suppose there are 100 programmers in the company. The cost of changing a monitor is  500 and the increase of one unit of productivity is worth 2,000, would you recommend switching the monitors? State the assumptions you are making and show your work."
   ]
  },
  {
   "cell_type": "code",
   "execution_count": 94,
   "metadata": {},
   "outputs": [
    {
     "data": {
      "image/png": "[encoded data removed]",
      "text/plain": [
       "<Figure size 1800x720 with 1 Axes>"
      ]
     },
     "metadata": {
      "needs_background": "light"
     },
     "output_type": "display_data"
    }
   ],
   "source": [
    "ep5, boot_s5, b_lst5 = bootstrap_ci(time_series, stat_flag=np.std, ci=90)\n",
    "graph_bootstrap(b_lst5)"
   ]
  },
  {
   "cell_type": "markdown",
   "metadata": {},
   "source": [
    "Answer: per employee a single monitor will cost \\\\$500. If, on average, productivity will increase 6 hours per employee then productivity will increase $12k per employee.  \\\\$12k > \\\\$500. Why not get each employee 5 monitors and ratain the \\\\$2k? Because every cool developer uses a Macbook; and macbook are limits to 4 4k m"
   ]
  },
  {
   "cell_type": "markdown",
   "metadata": {},
   "source": [
    "## Advanced\n",
    "\n",
    "### Part 3: Bootstrap to find Confidence Interval of Correlation\n",
    "\n",
    "You are interested if there is a positive correlation between the LSAT admission exam score and the first year GPA achieved in law schools. You are given the mean LSAT and mean GPA scores for the students from a sample of 15 law schools.\n",
    "\n",
    "<br>\n",
    "\n",
    "1. Load the data `data/law_sample.txt`\n",
    "\n",
    "2. Use `scipy.stats.pearsonr` to compute the correlation.\n",
    "   \n",
    "3. Use the `bootstrap_ci` function to compute the confidence interval for the correlation coefficient.  Based on the bootstrap confidence interval, what conclusions can you draw?\n",
    "\n",
    "4. Plot the bootstrap distribution of the correlation in a histogram. \n",
    "\n",
    "5. Load in the LSAT and GPA data for all the law school (`data/law_all.txt`) and verify the population correlation is within the confidence interval.\n",
    "\n",
    "Note: The percentile interval method (as implemented in `bootstrap_ci`) is less than optimal for building a confidence interval when the bootstrap distribution of the statistic is not nearly symmetrical. There are methods to correct for the confidence interval in such cases which will not be covered here. ([Studentized Bootstrap & Bias-Corrected Bootstrap](http://en.wikipedia.org/wiki/Bootstrapping_%28statistics%29#Methods_for_bootstrap_confidence_intervals)) \n"
   ]
  },
  {
   "cell_type": "code",
   "execution_count": null,
   "metadata": {},
   "outputs": [],
   "source": []
  },
  {
   "cell_type": "code",
   "execution_count": null,
   "metadata": {},
   "outputs": [],
   "source": []
  }
 ],
 "metadata": {
  "kernelspec": {
   "display_name": "Python 3",
   "language": "python",
   "name": "python3"
  },
  "language_info": {
   "codemirror_mode": {
    "name": "ipython",
    "version": 3
   },
   "file_extension": ".py",
   "mimetype": "text/x-python",
   "name": "python",
   "nbconvert_exporter": "python",
   "pygments_lexer": "ipython3",
   "version": "3.7.6"
  }
 },
 "nbformat": 4,
 "nbformat_minor": 4
}
