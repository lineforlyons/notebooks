{
 "cells": [
  {
   "cell_type": "markdown",
   "metadata": {},
   "source": [
    "## Introduction\n",
    "\n",
    "In this assignment you \n",
    "These links useful:\n",
    "- [matplotlib tutorial](http://matplotlib.org/users/pyplot_tutorial.html)\n",
    "- [More about matplotlib's Figure and Axes classes](http://matplotlib.org/users/artists.html)\n",
    "- [Plotting with pandas](http://pandas.pydata.org/pandas-docs/version/0.18/visualization.html)\n",
    "- [Seaborn tutorial](https://web.stanford.edu/~mwaskom/software/seaborn/tutorial.html)\n",
    "\n",
    "\n",
    "Start your file with these imports\n",
    "```python\n",
    "import numpy as np\n",
    "import pandas as pd\n",
    "import matplotlib.pyplot as plt\n",
    "```\n",
    "If you are working in an ipython notebook, add the line\n",
    "```python\n",
    "%matplotlib inline\n",
    "```\n",
    "\n",
    "If you are running a script, ```plt.show()``` after each plot to display it (in a notebook this\n",
    "happens automatically).\n",
    "\n",
    "#### Pro tips\n",
    "\n",
    "- You can change the default style of your plots with ```plt.style.use()```. You can view your options with ```plt.style.available```\n",
    "\n",
    "There are two ways to create plots in `matplotlib`.  You can create figures and axes using `plt.subplots` or `fig.add_subplot`, and then work with the axes directly like `ax.scatter`, or you can work with the axes *implicitly* using the convienience functions like `plt.scatter`.  We will refer to the first style here, as it is more flexible and modern. While you can save a few characters by use the second, we encourage you to stick to the first until you are experienced\n",
    "enough to understand all the differences.\n",
    "\n",
    "- Use ```ax.set_title()```, ```ax.set_xlabel()```, and ```ax.set_ylabel()``` to specify axis labels and plot titles\n",
    "- Use ```ax.set_xlim()```, ```ax.set_ylim()```, and/or ```ax.set_axes()``` to change the range of values displayed on your plot. These functions take lists as arguments: ```[xmin, xmax]```, ```[ymin, ymax]```, and ```[xmin, xmax, ymin, ymax]``` respectively.\n",
    "\n",
    "\n",
    "## Basic\n",
    "### Part 1: Four plots\n",
    "\n",
    "#### Scatterplot with conditional color\n",
    "The following code generates two arrays populated with integers from 0 to 999\n",
    "  ```python\n",
    "  a = np.random.randint(1000, size=50)\n",
    "  b = np.random.randint(1000, size=50)\n",
    "  ```\n",
    "  Make a scatterplot of a vs. b, and give the points different colors based on whether or not the sum of a and b for that point is even.\n",
    "  - There are two possible approaches:\n",
    "      - split the data into two subsets based on the condition above, call `ax.scatter()` on each subset, specifying color and label, and put a legend on the figure.\n",
    "      - use the `c` keyword argument of `ax.scatter()`, which accepts an array of color specifiers, one for each point. The specifiers can be strings (e.g., `['r', 'r', 'b', 'r', ...]`), or an array of numbers which get mapped to colors via a [colormap](http://matplotlib.org/examples/color/colormaps_reference.html) specified by `cmap`, or even booleans (since `True` will be treated as `1` and `False` as `0`).  Use `ax.colorbar()` to display the colormap on the plot.\n",
    "\n",
    "#### Two functions\n",
    "Plot the functions ```y = 3x + 0.5``` and ```y = 5*sqrt(x)``` on the same figure for values of `x` between 0 and 5. Remember that ```ax.plot()``` takes an array of x-values and an array of y-values. You may find ```np.arange()``` or ```np.linspace()``` helpful.\n",
    " - Add a legend using ```ax.legend()```. Note that you'll have to specify ```label='something'``` for each ```ax.plot()``` command.\n",
    " - How does this graph look with x and/or y on a log scale? Use ```ax.set_xscale()```\n",
    " - Change the color, [line style](http://matplotlib.org/api/lines_api.html#matplotlib.lines.Line2D.set_linestyle) and [marker style](http://matplotlib.org/api/markers_api.html#module-matplotlib.markers) using the \"format string\" shorthand.  \n",
    " For example, ```ax.plot(x, y, 'k--*')``` would plot a black (```'k'```) dashed (```'--'```) line with asterisks (```'*'```) at each point.\n",
    "\n",
    "#### bar plot\n",
    "The following code generates a bar plot\n",
    " ```python\n",
    "barheights = [3,5,1]\n",
    "barlabels = ['grapes', 'oranges', 'hockey pucks']\n",
    "fig, ax = plt.subplots()\n",
    "ax.bar(np.arange(len(barheights)), barheights)\n",
    "x_pos = np.arange(len(barheights))\n",
    "ax.set_xticks(x_pos)\n",
    "ax.set_xticklabels(barlabels, rotation=45)\n",
    " ```\n",
    " How would you change the x-position of the labels?\n",
    "\n",
    "#### subplots\n",
    "Make a 2x2 subplot of four plots you've made so far.\n",
    "\n",
    "Save the last figure using ```plt.savefig()```"
   ]
  },
  {
   "cell_type": "code",
   "execution_count": 192,
   "metadata": {},
   "outputs": [],
   "source": [
    "import numpy as np\n",
    "import pandas as pd\n",
    "import matplotlib.pyplot as plt\n",
    "%matplotlib inline\n",
    "\n",
    "#a = np.random.randint(1000, size=50)\n",
    "#b = np.random.randint(1000, size=50)\n",
    "def random_gen(size):\n",
    "    a = np.random.randint(1000, size=size)\n",
    "    b = np.random.randint(1000, size=size)\n",
    "    return a,b\n",
    "\n",
    "\n",
    "def scatter_plt(ax, a, b, color_code):\n",
    "#     a = np.random.randint(1000, size=size)\n",
    "#     b = np.random.randint(1000, size=size)\n",
    "    ax.scatter(a, b, color=color_code) #label for key-legend\n",
    "#     ax.colorbar()\n",
    "    #return a, b\n",
    "#fig, ax = plt.subplots()\n",
    "# fig, ax = plt.subplots(2,2)\n",
    "#   ^ returns np array error when calling ax.scatter(a,b)\n",
    "# fig, ax = plt.subplots(2,2, figsize=(5,5))\n",
    "#ax.scatter(a,b)\n",
    "#fig.tight_layout()\n",
    "\n",
    "def even_or_odd(a, b):\n",
    "    c = a + b\n",
    "    even = c[np.where(c%2==0)]\n",
    "    odd = c[np.where(c%2!=0)]\n",
    "    return even, odd"
   ]
  },
  {
   "cell_type": "code",
   "execution_count": 186,
   "metadata": {},
   "outputs": [],
   "source": [
    "a, b = random_gen(50)"
   ]
  },
  {
   "cell_type": "code",
   "execution_count": 187,
   "metadata": {},
   "outputs": [],
   "source": [
    "color_code = np.where((a+b) % 2 ==0, 'r', 'b')"
   ]
  },
  {
   "cell_type": "code",
   "execution_count": 188,
   "metadata": {},
   "outputs": [
    {
     "name": "stdout",
     "output_type": "stream",
     "text": [
      "[1414  286 1022  592  214  838 1364 1652  732 1660  822  820  480 1078\n",
      " 1198 1096 1084 1598  924 1546  704 1750 1346 1550 1128 1238 1154]\n",
      "[ 725  345 1065 1235 1025 1097  125 1261 1705 1469 1479  593 1067  945\n",
      "  589 1679  807  911  987 1305  747  643 1171]\n"
     ]
    }
   ],
   "source": [
    "#even = a[np.where((a+b) % 2 == 0)] + b[np.where((a+b) % 2 == 0)]\n",
    "#odd = a[np.where((a+b) % 2 != 0)] + b[np.where((a+b) % 2 != 0)]\n",
    "c = a+ b\n",
    "even = c[np.where(c%2==0)]\n",
    "odd = c[np.where(c%2!=0)]\n",
    "print(even)\n",
    "print(odd)"
   ]
  },
  {
   "cell_type": "code",
   "execution_count": 189,
   "metadata": {},
   "outputs": [
    {
     "data": {
      "text/plain": [
       "(27, 23)"
      ]
     },
     "execution_count": 189,
     "metadata": {},
     "output_type": "execute_result"
    }
   ],
   "source": [
    "len(even), len(odd)"
   ]
  },
  {
   "cell_type": "code",
   "execution_count": 193,
   "metadata": {},
   "outputs": [
    {
     "data": {
      "image/png": "[encoded data removed]",
      "text/plain": [
       "<Figure size 432x288 with 1 Axes>"
      ]
     },
     "metadata": {
      "needs_background": "light"
     },
     "output_type": "display_data"
    }
   ],
   "source": [
    "fig, ax = plt.subplots()\n",
    "scatter_plt(ax, a, b, color_code)"
   ]
  },
  {
   "cell_type": "code",
   "execution_count": null,
   "metadata": {},
   "outputs": [],
   "source": [
    "#e, o = even_or_odd(a, b)"
   ]
  },
  {
   "cell_type": "code",
   "execution_count": 218,
   "metadata": {},
   "outputs": [
    {
     "data": {
      "text/plain": [
       "(array([ 0.        ,  5.59016994,  7.90569415,  9.68245837, 11.18033989]),\n",
       " array([0.  , 1.25, 2.5 , 3.75, 5.  ]))"
      ]
     },
     "execution_count": 218,
     "metadata": {},
     "output_type": "execute_result"
    }
   ],
   "source": [
    "#rndset = np.random.randint(n, size=100)\n",
    "def fun1(n):\n",
    "    x = np.linspace(0,n,n)\n",
    "    y = 3*x + .5\n",
    "    return y, x\n",
    "fun1(5)\n",
    "\n",
    "def fun2(n):\n",
    "    x = np.linspace(0, n, n)\n",
    "    y = 5*x**.5\n",
    "    return y, x\n",
    "fun2(5)"
   ]
  },
  {
   "cell_type": "code",
   "execution_count": 233,
   "metadata": {},
   "outputs": [
    {
     "data": {
      "text/plain": [
       "<matplotlib.legend.Legend at 0x7f82402aba90>"
      ]
     },
     "execution_count": 233,
     "metadata": {},
     "output_type": "execute_result"
    },
    {
     "data": {
      "image/png": "[encoded data removed]",
      "text/plain": [
       "<Figure size 432x288 with 1 Axes>"
      ]
     },
     "metadata": {
      "needs_background": "light"
     },
     "output_type": "display_data"
    }
   ],
   "source": [
    "#def plot_line()\n",
    "\n",
    "fig, ax = plt.subplots()\n",
    "ax.plot(fun1(100)[1], fun1(100)[0], color='green', label='linear')\n",
    "ax.plot(fun2(100)[1], fun2(100)[0], color='red',label='squareroot')\n",
    "ax.legend()"
   ]
  },
  {
   "cell_type": "code",
   "execution_count": 239,
   "metadata": {},
   "outputs": [
    {
     "data": {
      "image/png": "[encoded data removed]",
      "text/plain": [
       "<Figure size 864x216 with 4 Axes>"
      ]
     },
     "metadata": {
      "needs_background": "light"
     },
     "output_type": "display_data"
    }
   ],
   "source": [
    "linear = lambda x: 3*x+.5\n",
    "quadratic = lambda x: 5*x**.5\n",
    "\n",
    "functions = [linear, quadratic, linear, quadratic]\n",
    "\n",
    "x = np.linspace(0,5,5)\n",
    "\n",
    "fig , axs = plt.subplots(2,2, figsize=(12,3))\n",
    "\n",
    "for f, ax in zip(functions, axs.flatten()):\n",
    "    ax.plot(x, f(x))"
   ]
  },
  {
   "cell_type": "code",
   "execution_count": 223,
   "metadata": {},
   "outputs": [
    {
     "data": {
      "text/plain": [
       "<matplotlib.legend.Legend at 0x7f823e332210>"
      ]
     },
     "execution_count": 223,
     "metadata": {},
     "output_type": "execute_result"
    }
   ],
   "source": []
  },
  {
   "cell_type": "code",
   "execution_count": 236,
   "metadata": {},
   "outputs": [
    {
     "data": {
      "text/plain": [
       "[Text(0, 0, 'grapes'), Text(0, 0, 'hockey pucks'), Text(0, 0, 'oranges')]"
      ]
     },
     "execution_count": 236,
     "metadata": {},
     "output_type": "execute_result"
    },
    {
     "data": {
      "image/png": "[encoded data removed]",
      "text/plain": [
       "<Figure size 432x288 with 1 Axes>"
      ]
     },
     "metadata": {
      "needs_background": "light"
     },
     "output_type": "display_data"
    }
   ],
   "source": [
    "barheights = [3,5,1]\n",
    "barlabels = ['grapes', 'oranges', 'hockey pucks']\n",
    "barlabels.sort()\n",
    "fig, ax = plt.subplots()\n",
    "ax.bar(np.arange(len(barheights)), barheights)\n",
    "x_pos = np.arange(len(barheights))\n",
    "ax.set_xticks(x_pos)\n",
    "ax.set_xticklabels(barlabels, rotation=45)"
   ]
  },
  {
   "cell_type": "code",
   "execution_count": null,
   "metadata": {},
   "outputs": [],
   "source": []
  },
  {
   "cell_type": "code",
   "execution_count": null,
   "metadata": {},
   "outputs": [],
   "source": []
  },
  {
   "cell_type": "code",
   "execution_count": null,
   "metadata": {},
   "outputs": [],
   "source": []
  },
  {
   "cell_type": "code",
   "execution_count": null,
   "metadata": {},
   "outputs": [],
   "source": []
  },
  {
   "cell_type": "code",
   "execution_count": null,
   "metadata": {},
   "outputs": [],
   "source": []
  },
  {
   "cell_type": "code",
   "execution_count": null,
   "metadata": {},
   "outputs": [],
   "source": []
  },
  {
   "cell_type": "code",
   "execution_count": null,
   "metadata": {},
   "outputs": [],
   "source": []
  },
  {
   "cell_type": "code",
   "execution_count": null,
   "metadata": {},
   "outputs": [],
   "source": []
  },
  {
   "cell_type": "code",
   "execution_count": null,
   "metadata": {},
   "outputs": [],
   "source": []
  },
  {
   "cell_type": "code",
   "execution_count": null,
   "metadata": {},
   "outputs": [],
   "source": []
  },
  {
   "cell_type": "code",
   "execution_count": null,
   "metadata": {},
   "outputs": [],
   "source": []
  },
  {
   "cell_type": "code",
   "execution_count": null,
   "metadata": {},
   "outputs": [],
   "source": []
  },
  {
   "cell_type": "code",
   "execution_count": null,
   "metadata": {},
   "outputs": [],
   "source": []
  },
  {
   "cell_type": "code",
   "execution_count": null,
   "metadata": {},
   "outputs": [],
   "source": []
  },
  {
   "cell_type": "code",
   "execution_count": null,
   "metadata": {},
   "outputs": [],
   "source": []
  },
  {
   "cell_type": "code",
   "execution_count": null,
   "metadata": {},
   "outputs": [],
   "source": []
  },
  {
   "cell_type": "code",
   "execution_count": null,
   "metadata": {},
   "outputs": [],
   "source": []
  },
  {
   "cell_type": "code",
   "execution_count": null,
   "metadata": {},
   "outputs": [],
   "source": []
  },
  {
   "cell_type": "markdown",
   "metadata": {},
   "source": [
    "## Advanced\n",
    "\n",
    "### Part 2: Bike Share Data\n",
    "You will be exploring and graphing the data from the Bay Area Bike Share. The data directory contains a README with further explanation.\n",
    "```\n",
    "data/bay_area_bikeshare/README.txt\n",
    "```\n",
    "\n",
    "Let's start out by looking at some weather data. Use your bash shell's ```head``` command (which you can access in ipython by prepending with a bang, i.e.  ```!head```) to look at the first few lines of this file:\n",
    "```\n",
    "data/bay_area_bikeshare/201402_weather_data_v2.csv\n",
    "```\n",
    "\n",
    "#### Importing data the hard way: using only Python builtins\n",
    "The first line is all column labels. The following code will turn that into an easy-to-access list.\n",
    "```python\n",
    "with open('data/bay_area_bikeshare/201402_weather_data_v2.csv') as f:\n",
    "    labels = f.readline().strip().split(',')\n",
    "[(i, label) for i, label in enumerate(labels)]\n",
    "```\n",
    "\n",
    "```\n",
    "[(0, 'date'),\n",
    " (1, 'max_temperature_f'),\n",
    " (2, 'mean_temperature_f'),\n",
    " (3, 'min_temperature_f'),\n",
    " (4, 'max_dew_point_f'),\n",
    " (5, 'mean_dew_point_f'),\n",
    " (6, 'min_dewpoint_f'),\n",
    " (7, 'max_humidity'),\n",
    " (8, 'mean_humidity'),\n",
    " (9, 'min_humidity'),\n",
    " (10, 'max_sea_level_pressure_in'),\n",
    " (11, 'mean_sea_level_pressure_in'),\n",
    " (12, 'min_sea_level_pressure_in'),\n",
    " (13, 'max_visibility_miles'),\n",
    " (14, 'mean_visibility_miles'),\n",
    " (15, 'min_visibility_miles'),\n",
    " (16, 'max_wind_speed_m_p_h'),\n",
    " (17, 'mean_wind_speed_m_p_h'),\n",
    " (18, 'max_gust_speed_m_p_h'),\n",
    " (19, 'precipitation_in'),\n",
    " (20, 'cloud_cover'),\n",
    " (21, 'events'),\n",
    " (22, 'wind_dir_degrees'),\n",
    " (23, 'zip')]\n",
    "```\n",
    "#### Importing data with numpy\n",
    "1. Let's import a subset of these columns into a numpy array. While it appears that everything except 'date' is numerical, the precipitation column occasionally contains the string 'T' for 'trace amounts'. For sanity reasons, let's avoid putting strings in a numpy array.\n",
    "  ```python\n",
    "  cols = [2, 5, 8, 11, 14, 17]\n",
    "  filepath = 'data/bay_area_bikeshare/201402_weather_data_v2.csv'\n",
    "  weather = np.loadtxt(filepath, delimiter=',', skiprows=1, usecols=cols)\n",
    "  ```\n",
    "\n",
    "1. Make some scatterplots and histograms using some of these columns. Sometimes you have to change the number of ```bins``` in ```ax.hist()``` to get something informative.\n",
    "\n",
    "#### Importing data the easy way: with pandas\n",
    "1. Pandas will conveniently label the columns automatically. How nice!  \n",
    "  ```df_weather = pd.read_csv(filepath)```  \n",
    "  Scope it out with ```df_weather.head()```\n",
    "\n",
    "1. Pandas dataframes have plotting functions as methods, so you can call\n",
    "  ```python\n",
    "  df_weather.plot(kind='scatter', x='column name', y='another column name')\n",
    "  ```\n",
    "  and\n",
    "  ```python\n",
    "  df_weather['some column'].hist()\n",
    "  ```\n",
    "  Try it out!"
   ]
  },
  {
   "cell_type": "code",
   "execution_count": null,
   "metadata": {},
   "outputs": [],
   "source": []
  },
  {
   "cell_type": "markdown",
   "metadata": {},
   "source": [
    "### Part 3: Explore!\n",
    "Import the trip data and station data into pandas dataframes and dive deep!\n",
    "\n",
    "1. Create a graph that is based on data from only one of the columns of the original data.  For example, this might be a histogram of that data.\n",
    "\n",
    "2. Create a graph that is based on data from only two columns of the original data.  This might be a scatterplot, a faceted histogram, etc.\n",
    "\n",
    "3. Create graph that is based on data from at least 3 columns of the original data.  This could be a colored scatterplot, a scatterplot matrix, faceted histograms, etc.\n",
    "\n",
    "For each of the three parts, your goal should be to create the most interesting or insightful graph you can, given the constraints on how much data is used.  Create a separate document that explains why you find each graph insightful and/or what you learn from the results.\n"
   ]
  },
  {
   "cell_type": "code",
   "execution_count": null,
   "metadata": {},
   "outputs": [],
   "source": []
  },
  {
   "cell_type": "markdown",
   "metadata": {},
   "source": [
    "## Extra credit\n",
    "### Part 4: Plotting vs date\n",
    "Import the weather data again but tell pandas to parse the date column as a ```DateTime``` object and set it as the index.\n",
    "\n",
    "```python\n",
    "df_weather = pd.read_csv(filepath,parse_dates=['date'], index_col='date')\n",
    "```\n",
    "Now you can plot a column over time with\n",
    "```python\n",
    "df_weather['column'].plot()\n",
    "```\n",
    "Note that there are multiple zip codes in the data, with the date repeated for each one, so you'll have to either subset or aggregate the data accordingly before you plot the time trace.\n"
   ]
  },
  {
   "cell_type": "code",
   "execution_count": null,
   "metadata": {},
   "outputs": [],
   "source": []
  }
 ],
 "metadata": {
  "kernelspec": {
   "display_name": "Python 3",
   "language": "python",
   "name": "python3"
  },
  "language_info": {
   "codemirror_mode": {
    "name": "ipython",
    "version": 3
   },
   "file_extension": ".py",
   "mimetype": "text/x-python",
   "name": "python",
   "nbconvert_exporter": "python",
   "pygments_lexer": "ipython3",
   "version": "3.7.6"
  }
 },
 "nbformat": 4,
 "nbformat_minor": 4
}
