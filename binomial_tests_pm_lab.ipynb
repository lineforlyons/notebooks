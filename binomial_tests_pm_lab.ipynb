{
 "cells": [
  {
   "cell_type": "markdown",
   "metadata": {},
   "source": [
    "# Binomial Tests\n",
    "\n",
    "## Introduction\n",
    "\n",
    "In this assignment, we will explore the simplest kind of statistical test, tests where the distribution of data under a null hypothesis is binomial.  More sophisticated tests, like the z-tests (which use the normal distribution) and the t-tests (which use a generalization of the normal distribution called the t-distribution) can be viewed as elaborations on the themes set down here.\n",
    "\n",
    "## Basic\n",
    "\n",
    "### Part 1: Binomially Distributed Data\n",
    "\n",
    "Recall the binomial distribution describes data generated when we observe a binary outcome (one of two things can happen) a fixed number of times, and the probability that one or another thing happens for each individual outcome does not change.\n",
    "\n",
    "In each of the following situations, the resulting data *may be* binomially distributed.\n",
    "\n",
    "  - If it is binomially distributed, give the parameters of the binomial distribution.\n",
    "  - If it is not binomially distributed, describe why not.  If you can, give the correct distribution (if not, don't worry too much about it).\n",
    "\n",
    "1. A large bucket contains 1256 six sided dice.  You dump all of them onto the ground (without losing any) and count how many 4's you see.\n",
    "\n",
    "2. A large bucket contains 1256 dice with varying numbers of sides (some have four sides, some have six, some have 8, some have 10, some have 12, and some have 20).  You dump them all onto the ground (without losing any) and count how many 4's you see.\n",
    "\n",
    "3.  A magic the gathering deck (like a deck of cards) is made up of two types of cards: lands, and playables.  You have a forty card deck that contains the typical 17 lands.  You shuffle your deck, then draw the top card and see if it is a land.  You repeat this process 100 times, and count how often there is a land on top.\n",
    "\n",
    "4.  A magic the gathering deck is made up of two types of cards: lands, and playables.  You have a forty card deck that contains the typical 17 lands.  You shuffle your deck, draw a hand of 7 cards, and count the number of lands.\n",
    "\n",
    "#### The following two I'm gonna tell you up front: these ARE binomially distributed!  Convince yourself this is true, and compute the appropriate values of the parameters.\n",
    "\n",
    "5. A large bucket contains 1256 six sided dice.  You dump all of them onto the ground, but this time you lose a random number of dice; there is a 10% chance you will lose any individual die.  You, again, count the number of 4's. \n",
    "\n",
    "6.  A magic the gathering deck is made up of two types of cards: lands, and playables.  Although 17 lands is typical in a 40 card deck, it is sometimes correct to play 16 or 18 lands.  Say when you construct a deck, 80% of them contain 17 lands, 10% contain 16, and 10% contain 18.  You build a magic the gathering deck, shuffle it, and then look at the top card and see if it is a land.  You then repeat this process 100 times (including rebuilding the deck), and count how many times there was a land on top.\n",
    "\n"
   ]
  },
  {
   "cell_type": "code",
   "execution_count": 48,
   "metadata": {},
   "outputs": [
    {
     "data": {
      "text/plain": [
       "5.836408453657285e-92"
      ]
     },
     "execution_count": 48,
     "metadata": {},
     "output_type": "execute_result"
    }
   ],
   "source": [
    "import scipy.stats as stats\n",
    "import random\n",
    "import numpy as np\n",
    "\n",
    "def bucket_gen(n, all_dice = False):\n",
    "    '''\n",
    "    \n",
    "    Parameters:\n",
    "    ___________\n",
    "    n \n",
    "    '''\n",
    "    bucket = []\n",
    "    if all_dice:\n",
    "        for _ in range(n):\n",
    "            dice_type = [4, 6, 8, 10, 12, 20]\n",
    "            num_sides = random.choice(dice_type)\n",
    "            bucket.append(num_sides)\n",
    "    else:\n",
    "        for _ in range(n):\n",
    "            bucket.append(6)\n",
    "            \n",
    "    results = dict()\n",
    "    \n",
    "    for dice in bucket:\n",
    "        roll = roll_dice(dice)\n",
    "        if roll not in results:\n",
    "            results[roll] = 1\n",
    "        else:\n",
    "            results[roll] += 1\n",
    "            \n",
    "    return results #, results.values().sum()\n",
    "    \n",
    "\n",
    "\n",
    "def roll_dice(side_num):\n",
    "    return random.randint(1, side_num)\n",
    "    \n",
    "\n",
    "# 1. bucket to hold dice (1256) create dice 2. create dice(num_sides) 3. roll(num_sides)\n",
    "\n",
    "\n",
    "n, p = 1256, 1/6\n",
    "\n",
    "dist = stats.binom(n, p)\n",
    "dist.pmf(4)\n",
    "#print(dist.pmf(4))"
   ]
  },
  {
   "cell_type": "code",
   "execution_count": 49,
   "metadata": {},
   "outputs": [
    {
     "name": "stdout",
     "output_type": "stream",
     "text": [
      "{3: 181, 9: 43, 8: 58, 2: 185, 1: 161, 5: 93, 15: 10, 12: 21, 7: 72, 6: 129, 4: 169, 11: 37, 10: 45, 17: 3, 20: 9, 16: 9, 14: 7, 13: 8, 18: 6, 19: 10}\n"
     ]
    }
   ],
   "source": [
    "# rolls, val = bucket_gen(n)\n",
    "print(bucket_gen(n, True))"
   ]
  },
  {
   "cell_type": "markdown",
   "metadata": {},
   "source": [
    "3.  A magic the gathering deck (like a deck of cards) is made up of two types of cards: lands, and playables.  You have a forty card deck that contains the typical 17 lands.  You shuffle your deck, then draw the top card and see if it is a land.  You repeat this process 100 times, and count how often there is a land on top."
   ]
  },
  {
   "cell_type": "code",
   "execution_count": 82,
   "metadata": {},
   "outputs": [],
   "source": [
    "# n = 100\n",
    "# land = 17\n",
    "# deck = 40\n",
    "# p = land / deck\n",
    "\n",
    "def make_deck():\n",
    "    # L, ['land'] * 17\n",
    "    L = ['land'] * 17 + ['playable'] * 23\n",
    "#     print(L)\n",
    "    return L\n",
    "\n",
    "\n",
    "\n",
    "def shuffle_deck(deck):\n",
    "#     shuffled = []\n",
    "    random.shuffle(deck)\n",
    "#     shuffled =\n",
    "    return deck\n",
    "\n",
    "def draw_card(deck):\n",
    "    return deck.pop()\n",
    "\n",
    "\n",
    "\n",
    "# mtg_bi = stats.binom(n, p)"
   ]
  },
  {
   "cell_type": "code",
   "execution_count": 83,
   "metadata": {},
   "outputs": [],
   "source": [
    "deck = make_deck()"
   ]
  },
  {
   "cell_type": "code",
   "execution_count": 92,
   "metadata": {},
   "outputs": [],
   "source": [
    "shuffled = shuffle_deck(deck)"
   ]
  },
  {
   "cell_type": "code",
   "execution_count": 93,
   "metadata": {},
   "outputs": [
    {
     "data": {
      "text/plain": [
       "'land'"
      ]
     },
     "execution_count": 93,
     "metadata": {},
     "output_type": "execute_result"
    }
   ],
   "source": [
    "draw_card(shuffled)"
   ]
  },
  {
   "cell_type": "code",
   "execution_count": 97,
   "metadata": {},
   "outputs": [],
   "source": [
    "top_card = []\n",
    "for card in range(100):\n",
    "    deck = make_deck()\n",
    "    shuffled = shuffle_deck(deck)\n",
    "    top_card.append(draw_card(shuffled))\n",
    "\n",
    "# top_card"
   ]
  },
  {
   "cell_type": "code",
   "execution_count": 98,
   "metadata": {},
   "outputs": [
    {
     "data": {
      "text/plain": [
       "46"
      ]
     },
     "execution_count": 98,
     "metadata": {},
     "output_type": "execute_result"
    }
   ],
   "source": [
    "top_card.count('land')"
   ]
  },
  {
   "cell_type": "code",
   "execution_count": 99,
   "metadata": {},
   "outputs": [
    {
     "data": {
      "text/plain": [
       "54"
      ]
     },
     "execution_count": 99,
     "metadata": {},
     "output_type": "execute_result"
    }
   ],
   "source": [
    "top_card.count('playable')"
   ]
  },
  {
   "cell_type": "code",
   "execution_count": 105,
   "metadata": {},
   "outputs": [
    {
     "data": {
      "text/plain": [
       "0.07996584476687427"
      ]
     },
     "execution_count": 105,
     "metadata": {},
     "output_type": "execute_result"
    }
   ],
   "source": [
    "# binom values\n",
    "# k unknown\n",
    "p = 17/40\n",
    "n = 100\n",
    "\n",
    "dist = stats.binom(n, p)\n",
    "dist.pmf(43)"
   ]
  },
  {
   "cell_type": "markdown",
   "metadata": {},
   "source": [
    "A magic the gathering deck is made up of two types of cards: lands, and playables. You have a forty card deck that contains the typical 17 lands. You shuffle your deck, draw a hand of 7 cards, and count the number of lands."
   ]
  },
  {
   "cell_type": "code",
   "execution_count": 110,
   "metadata": {},
   "outputs": [],
   "source": [
    "def draw_hand(num_of_cards, deck):\n",
    "    hand = []\n",
    "    for _ in range(num_of_cards):\n",
    "      hand.append(draw_card(deck))\n",
    "        \n",
    "    return hand"
   ]
  },
  {
   "cell_type": "code",
   "execution_count": 111,
   "metadata": {},
   "outputs": [
    {
     "data": {
      "text/plain": [
       "['land', 'land', 'playable', 'land', 'land', 'playable', 'land']"
      ]
     },
     "execution_count": 111,
     "metadata": {},
     "output_type": "execute_result"
    }
   ],
   "source": [
    "deck = make_deck()\n",
    "shuffle = shuffle_deck(deck)\n",
    "hand = draw_hand(7, shuffled)\n",
    "hand"
   ]
  },
  {
   "cell_type": "code",
   "execution_count": null,
   "metadata": {},
   "outputs": [],
   "source": [
    "# not binom b/c source probablity is changed when popping hand"
   ]
  },
  {
   "cell_type": "markdown",
   "metadata": {},
   "source": [
    "#### The following two I'm gonna tell you up front: these ARE binomially distributed!  Convince yourself this is true, and compute the appropriate values of the parameters.\n",
    "\n",
    "5. A large bucket contains 1256 six sided dice.  You dump all of them onto the ground, but this time you lose a random number of dice; there is a 10% chance you will lose any individual die.  You, again, count the number of 4's. \n",
    "\n",
    "6.  A magic the gathering deck is made up of two types of cards: lands, and playables.  Although 17 lands is typical in a 40 card deck, it is sometimes correct to play 16 or 18 lands.  Say when you construct a deck, 80% of them contain 17 lands, 10% contain 16, and 10% contain 18.  You build a magic the gathering deck, shuffle it, and then look at the top card and see if it is a land.  You then repeat this process 100 times (including rebuilding the deck), and count how many times there was a land on top."
   ]
  },
  {
   "cell_type": "markdown",
   "metadata": {},
   "source": [
    "### Part 2: Binomial Hypothesis Tests\n",
    "\n",
    "In each of the following situations, a decision can be made by using a hypothesis test based on the binomial distribution.  For each scenario:\n",
    "\n",
    "  - State the null and alternate hypothesis.\n",
    "  - State the distribution of the count under the null hypothesis (which, in every scenario, is a binomial distribution).\n",
    "  - Plot the null binomial distribution, and shade the region to the right of the count you actually observed.\n",
    "  - Calculate the p-value associated with the stated null and alternate hypothesis.\n",
    "  - Decide whether to reject the null hypothesis.\n",
    "\n",
    "1. Muriel still insists she can tell if you poured milk into tea before or after the hot water.  To prove her point, she goes to goodwill and purchases ALL of their mugs, 137 in total.  It take all day, but you manage to randomly make cups of tea milk or water first in all the mugs, without telling her how many there are of each, and test her on all of them.  She gets 72 correct.  Do you believe her now?\n",
    "\n",
    "2. You are working on your heelflips (a skateboarding trick).  Your goal is to land them more than 50% of the time (as in, the true rate you land them is over one half.  Of course, in any given sample, you may learn more or less than that ideal).   You attempt 122 heelflips in a day, and land 72 of them.  Do you believe you are as good as you want to be?\n",
    "\n",
    "3. Buses are seemingly always late, like 90% of them.  Thoroughly dismayed with the state of public transportation, you spend all day collecting data and being just generally upset.  Out of 53 total bus arrivals in a given day at your local bus stop, 49 of them were late.  Is the situation really that bad, 90% of them?\n",
    "\n",
    "4. You'd like to think that you are improving at programming, but most of your programs don't run at first.  Your instructors insist that this is normal, but it's discouraging, so you would like to have some measure of improvement.  At the beginning, none of your programs ran the first time, but this week you wrote 6 programs, and one of them ran the first time!  Can you confidently clam that more than 5% of your programs run the first time, you'd feel pretty good about that."
   ]
  },
  {
   "cell_type": "code",
   "execution_count": 149,
   "metadata": {},
   "outputs": [],
   "source": [
    "#1\n",
    "n = 137\n",
    "p_muriel = 71 / n\n",
    "# H_a: \n",
    "# H_0: P( |H_0) = \n"
   ]
  },
  {
   "cell_type": "code",
   "execution_count": 150,
   "metadata": {},
   "outputs": [],
   "source": [
    "# pvalue (observed:hypothesis) = n = 137 k = 72, nCk * 0.5^(72)*0.5(65)"
   ]
  },
  {
   "cell_type": "code",
   "execution_count": 151,
   "metadata": {},
   "outputs": [
    {
     "name": "stdout",
     "output_type": "stream",
     "text": [
      "137 0.5182481751824818\n"
     ]
    }
   ],
   "source": [
    "print(n, p_muriel)"
   ]
  },
  {
   "cell_type": "code",
   "execution_count": 180,
   "metadata": {},
   "outputs": [],
   "source": [
    "dist1 = stats.binom.cdf(71, n, 0.5)\n",
    "dist1_graph = stats.binom(n, 0.5)"
   ]
  },
  {
   "cell_type": "code",
   "execution_count": 181,
   "metadata": {},
   "outputs": [
    {
     "name": "stdout",
     "output_type": "stream",
     "text": [
      "0.30419205344997946\n"
     ]
    }
   ],
   "source": [
    "print(1 - dist1)"
   ]
  },
  {
   "cell_type": "code",
   "execution_count": 165,
   "metadata": {},
   "outputs": [],
   "source": [
    "import matplotlib.pyplot as plt"
   ]
  },
  {
   "cell_type": "code",
   "execution_count": 176,
   "metadata": {},
   "outputs": [],
   "source": [
    "def plot_binom(binomial):\n",
    "    fig, ax = plt.subplots()\n",
    "    \n",
    "    bars = ax.bar(range(n+1), [binomial.pmf(i) for i in range(n+1)], align='center', color='grey')\n",
    "    ax.set_xlim(50, 90)\n",
    "    \n",
    "    for i in range(72, n+1):\n",
    "        bars[i].set_color('red')    \n",
    "    "
   ]
  },
  {
   "cell_type": "code",
   "execution_count": 177,
   "metadata": {},
   "outputs": [
    {
     "data": {
      "image/png": "[encoded data removed]",
      "text/plain": [
       "<Figure size 432x288 with 1 Axes>"
      ]
     },
     "metadata": {
      "needs_background": "light"
     },
     "output_type": "display_data"
    }
   ],
   "source": [
    "plot_binom(dist1_graph)"
   ]
  },
  {
   "cell_type": "markdown",
   "metadata": {},
   "source": [
    "2. You are working on your heelflips (a skateboarding trick).  Your goal is to land them more than 50% of the time (as in, the true rate you land them is over one half.  Of course, in any given sample, you may learn more or less than that ideal).   You attempt 122 heelflips in a day, and land 72 of them.  Do you believe you are as good as you want to be?"
   ]
  },
  {
   "cell_type": "code",
   "execution_count": 178,
   "metadata": {},
   "outputs": [
    {
     "name": "stdout",
     "output_type": "stream",
     "text": [
      "0.5388296646450965\n"
     ]
    }
   ],
   "source": [
    "# X ~ binomial(landed heelflips or not)\n",
    "# H_a: P(X = 1) >50\n",
    "# H_0: P(X = 1 | H_0) = .50\n",
    "n_2, p_2 = 122, 72/122\n",
    "dist2 = stats.binom(n_2, p_2)\n",
    "print(1 - dist2.cdf(71))"
   ]
  },
  {
   "cell_type": "code",
   "execution_count": 179,
   "metadata": {
    "scrolled": true
   },
   "outputs": [
    {
     "data": {
      "image/png": "[encoded data removed]",
      "text/plain": [
       "<Figure size 432x288 with 1 Axes>"
      ]
     },
     "metadata": {
      "needs_background": "light"
     },
     "output_type": "display_data"
    }
   ],
   "source": [
    "plot_binom(dist2)"
   ]
  },
  {
   "cell_type": "code",
   "execution_count": null,
   "metadata": {},
   "outputs": [],
   "source": []
  },
  {
   "cell_type": "markdown",
   "metadata": {},
   "source": [
    "3. Buses are seemingly always late, like 90% of them. Thoroughly dismayed with the state of public transportation, you spend all day collecting data and being just generally upset. Out of 53 total bus arrivals in a given day at your local bus stop, 49 of them were late. Is the situation really that bad, 90% of them?"
   ]
  },
  {
   "cell_type": "code",
   "execution_count": null,
   "metadata": {},
   "outputs": [],
   "source": [
    "# X ~ binomial(buses late or not)\n",
    "# H_a: p < 0.90; less than 90% of the time busses are late\n",
    "# H_0: p = 0.90; 90% of the busses arrive late\n",
    "\n"
   ]
  },
  {
   "cell_type": "code",
   "execution_count": null,
   "metadata": {},
   "outputs": [],
   "source": []
  },
  {
   "cell_type": "code",
   "execution_count": null,
   "metadata": {},
   "outputs": [],
   "source": []
  },
  {
   "cell_type": "code",
   "execution_count": null,
   "metadata": {},
   "outputs": [],
   "source": []
  },
  {
   "cell_type": "code",
   "execution_count": null,
   "metadata": {},
   "outputs": [],
   "source": []
  }
 ],
 "metadata": {
  "kernelspec": {
   "display_name": "Python 3",
   "language": "python",
   "name": "python3"
  },
  "language_info": {
   "codemirror_mode": {
    "name": "ipython",
    "version": 3
   },
   "file_extension": ".py",
   "mimetype": "text/x-python",
   "name": "python",
   "nbconvert_exporter": "python",
   "pygments_lexer": "ipython3",
   "version": "3.7.6"
  }
 },
 "nbformat": 4,
 "nbformat_minor": 4
}
